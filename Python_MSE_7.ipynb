{
  "nbformat": 4,
  "nbformat_minor": 0,
  "metadata": {
    "colab": {
      "provenance": [],
      "authorship_tag": "ABX9TyO4BC+B4Z0TR2PWXbbrzJON",
      "include_colab_link": true
    },
    "kernelspec": {
      "name": "python3",
      "display_name": "Python 3"
    },
    "language_info": {
      "name": "python"
    }
  },
  "cells": [
    {
      "cell_type": "markdown",
      "metadata": {
        "id": "view-in-github",
        "colab_type": "text"
      },
      "source": [
        "<a href=\"https://colab.research.google.com/github/ArturSidorenko/Python_MSE_Lectures/blob/main/Python_MSE_7.ipynb\" target=\"_parent\"><img src=\"https://colab.research.google.com/assets/colab-badge.svg\" alt=\"Open In Colab\"/></a>"
      ]
    },
    {
      "cell_type": "markdown",
      "source": [
        "# Семинар 7\n",
        "\n",
        "# Списки\n",
        "Список --- набор значений, образующий упорядорченную последовательность. Список выделяется квадратными скобками.\n",
        "В Python список может содержать разные типы данных в себе."
      ],
      "metadata": {
        "id": "C6IFTUc1zHBC"
      }
    },
    {
      "cell_type": "code",
      "execution_count": null,
      "metadata": {
        "id": "LoKtsxEYxM_U",
        "colab": {
          "base_uri": "https://localhost:8080/"
        },
        "outputId": "a5d6dbf9-7769-4568-c683-a2a6ddf937e8"
      },
      "outputs": [
        {
          "output_type": "execute_result",
          "data": {
            "text/plain": [
              "(['a', 'b', 'c'], [1, 2, 3], [1, 'b', True])"
            ]
          },
          "metadata": {},
          "execution_count": 1
        }
      ],
      "source": [
        "['a', 'b', 'c'], [1, 2, 3], [1, 'b', True]"
      ]
    },
    {
      "cell_type": "markdown",
      "source": [
        "Пример доступа к элеменут списка по номеру, или индексу"
      ],
      "metadata": {
        "id": "_mRU41HUzT8J"
      }
    },
    {
      "cell_type": "code",
      "source": [
        "l = [1, 2, 3, 4, 5]\n",
        "print('l[0] = ', l[0])"
      ],
      "metadata": {
        "id": "CbU8C79RzVSP",
        "colab": {
          "base_uri": "https://localhost:8080/"
        },
        "outputId": "bc02638d-8a19-494e-b550-a546b2ba4860"
      },
      "execution_count": null,
      "outputs": [
        {
          "output_type": "stream",
          "name": "stdout",
          "text": [
            "l[0] =  1\n"
          ]
        }
      ]
    },
    {
      "cell_type": "code",
      "source": [
        "l[104]"
      ],
      "metadata": {
        "id": "J34yFCxIzX-B",
        "colab": {
          "base_uri": "https://localhost:8080/",
          "height": 178
        },
        "outputId": "4bab5cd3-f592-4e8d-bf6d-3ce971534533"
      },
      "execution_count": null,
      "outputs": [
        {
          "output_type": "error",
          "ename": "IndexError",
          "evalue": "ignored",
          "traceback": [
            "\u001b[0;31m---------------------------------------------------------------------------\u001b[0m",
            "\u001b[0;31mIndexError\u001b[0m                                Traceback (most recent call last)",
            "\u001b[0;32m<ipython-input-4-acac8c80a86d>\u001b[0m in \u001b[0;36m<cell line: 1>\u001b[0;34m()\u001b[0m\n\u001b[0;32m----> 1\u001b[0;31m \u001b[0ml\u001b[0m\u001b[0;34m[\u001b[0m\u001b[0;36m104\u001b[0m\u001b[0;34m]\u001b[0m\u001b[0;34m\u001b[0m\u001b[0;34m\u001b[0m\u001b[0m\n\u001b[0m",
            "\u001b[0;31mIndexError\u001b[0m: list index out of range"
          ]
        }
      ]
    },
    {
      "cell_type": "markdown",
      "source": [
        "**Нумерация элементов в списке начинается с нуля!**\n",
        "\n",
        "В списке индекс не может выходить за пределы самого размера. Однако индекс может быть **отрицательным**. Так, -1 означает последний элемент, -2 --- предпоследний и т.д."
      ],
      "metadata": {
        "id": "5KqLjDikzaqB"
      }
    },
    {
      "cell_type": "code",
      "source": [
        "l[-1]"
      ],
      "metadata": {
        "id": "tjTxe_vozeku",
        "colab": {
          "base_uri": "https://localhost:8080/"
        },
        "outputId": "1212015d-b2a0-4403-97d7-37f177c067d8"
      },
      "execution_count": null,
      "outputs": [
        {
          "output_type": "execute_result",
          "data": {
            "text/plain": [
              "5"
            ]
          },
          "metadata": {},
          "execution_count": 6
        }
      ]
    },
    {
      "cell_type": "markdown",
      "source": [
        "Можно менять элементы списка через обращенипе к индексу."
      ],
      "metadata": {
        "id": "XwJVn5Luzm5p"
      }
    },
    {
      "cell_type": "code",
      "source": [
        "l[-1] = 105\n",
        "l"
      ],
      "metadata": {
        "id": "9hU4jsuIzoUU",
        "colab": {
          "base_uri": "https://localhost:8080/"
        },
        "outputId": "343941eb-5ba8-495d-d0a2-975d32632498"
      },
      "execution_count": null,
      "outputs": [
        {
          "output_type": "execute_result",
          "data": {
            "text/plain": [
              "[1, 2, 3, 4, 105]"
            ]
          },
          "metadata": {},
          "execution_count": 8
        }
      ]
    },
    {
      "cell_type": "markdown",
      "source": [
        "Для списков есть операции сложения (конкатенация) и умножения на число (репликация)."
      ],
      "metadata": {
        "id": "dESV66ySzvo5"
      }
    },
    {
      "cell_type": "code",
      "source": [
        "l = [1, 2, 3, 4, 5]\n",
        "m = [\"a\", 'b', 'c']\n",
        "m + l"
      ],
      "metadata": {
        "id": "f054xAKQzwPx",
        "colab": {
          "base_uri": "https://localhost:8080/"
        },
        "outputId": "bcaae8b3-9b98-438e-a7d9-c53d7e3e338e"
      },
      "execution_count": null,
      "outputs": [
        {
          "output_type": "execute_result",
          "data": {
            "text/plain": [
              "['a', 'b', 'c', 1, 2, 3, 4, 5]"
            ]
          },
          "metadata": {},
          "execution_count": 12
        }
      ]
    },
    {
      "cell_type": "code",
      "source": [
        "l * 3"
      ],
      "metadata": {
        "colab": {
          "base_uri": "https://localhost:8080/"
        },
        "id": "3M-uVFsYTOCF",
        "outputId": "c29b6c15-3ffa-4361-be6f-035fbd4548d6"
      },
      "execution_count": null,
      "outputs": [
        {
          "output_type": "execute_result",
          "data": {
            "text/plain": [
              "[25, 2, 3, 4, 5, 25, 2, 3, 4, 5, 25, 2, 3, 4, 5]"
            ]
          },
          "metadata": {},
          "execution_count": 36
        }
      ]
    },
    {
      "cell_type": "markdown",
      "source": [
        "\n",
        "Из списка можно удалять значения с заданным индексом (`del`)."
      ],
      "metadata": {
        "id": "WJESc0NlzwfY"
      }
    },
    {
      "cell_type": "code",
      "source": [
        "l = [1, 2, 3, 4, 5]\n",
        "del l[3]\n",
        "l"
      ],
      "metadata": {
        "id": "_Oavm5Alz0xu",
        "colab": {
          "base_uri": "https://localhost:8080/"
        },
        "outputId": "5bc43896-495a-45df-e784-b7b988017726"
      },
      "execution_count": null,
      "outputs": [
        {
          "output_type": "execute_result",
          "data": {
            "text/plain": [
              "[1, 2, 3, 5]"
            ]
          },
          "metadata": {},
          "execution_count": 17
        }
      ]
    },
    {
      "cell_type": "markdown",
      "source": [
        "**В цикле for можно проводить обход по элементам списка!**"
      ],
      "metadata": {
        "id": "v8QherOIz2_o"
      }
    },
    {
      "cell_type": "code",
      "source": [
        "l = [1, 2, 3, 4, 5]\n",
        "for j in l:\n",
        "  print(j)"
      ],
      "metadata": {
        "id": "jT72lDU1z_gm",
        "colab": {
          "base_uri": "https://localhost:8080/"
        },
        "outputId": "2d8d91ff-540e-4274-eea0-e019e5d2ba42"
      },
      "execution_count": null,
      "outputs": [
        {
          "output_type": "stream",
          "name": "stdout",
          "text": [
            "1\n",
            "2\n",
            "3\n",
            "4\n",
            "5\n"
          ]
        }
      ]
    },
    {
      "cell_type": "markdown",
      "source": [
        "Функция enumerate создает пары индекс-значение, удобно для работы с циклами. Первый элемент i --- индекс, второй элемент j --- само значение из списка"
      ],
      "metadata": {
        "id": "k1A6LgQe0BzQ"
      }
    },
    {
      "cell_type": "code",
      "source": [
        "for i, j in enumerate(l):\n",
        "  print(f'l[{i}] = {j}')"
      ],
      "metadata": {
        "id": "tYdDhjwM0IfL",
        "colab": {
          "base_uri": "https://localhost:8080/"
        },
        "outputId": "961dfe56-87ac-4a5d-9b06-8a3e605ad5c9"
      },
      "execution_count": null,
      "outputs": [
        {
          "output_type": "stream",
          "name": "stdout",
          "text": [
            "l[0] = 1\n",
            "l[1] = 2\n",
            "l[2] = 3\n",
            "l[3] = 4\n",
            "l[4] = 5\n"
          ]
        }
      ]
    },
    {
      "cell_type": "markdown",
      "source": [
        "Можно проверять, входит ли какое-то значение в список при помощи слов `in` и `not in`."
      ],
      "metadata": {
        "id": "68vJV7RW0UiY"
      }
    },
    {
      "cell_type": "code",
      "source": [
        "l = [25, 2, 3, 4, 5]\n",
        "\n",
        "print(l)\n",
        "\n",
        "if 25 in l:\n",
        "  print('Опять 25')\n",
        "\n",
        "if 9 not in l:\n",
        "  print('Девятки нет')"
      ],
      "metadata": {
        "id": "Le5X7x1u0aYQ",
        "colab": {
          "base_uri": "https://localhost:8080/"
        },
        "outputId": "44bbcbc6-6de9-451f-b372-578710de1f75"
      },
      "execution_count": null,
      "outputs": [
        {
          "output_type": "stream",
          "name": "stdout",
          "text": [
            "[25, 2, 3, 4, 5]\n",
            "Опять 25\n",
            "Девятки нет\n"
          ]
        }
      ]
    },
    {
      "cell_type": "markdown",
      "source": [
        "Трюк с групповым присваиванием"
      ],
      "metadata": {
        "id": "Lz3FPHuq0dKX"
      }
    },
    {
      "cell_type": "code",
      "source": [
        "cat = ['толстый', 'серый', 'общительный']\n",
        "size, color, character = cat\n",
        "\n",
        "cat2 = [size, color, character]\n",
        "print(cat2)\n",
        "print(color)"
      ],
      "metadata": {
        "id": "raTFXH4-0hvD",
        "colab": {
          "base_uri": "https://localhost:8080/"
        },
        "outputId": "88804638-3ae2-47bc-8dff-939adf809d57"
      },
      "execution_count": null,
      "outputs": [
        {
          "output_type": "stream",
          "name": "stdout",
          "text": [
            "['толстый', 'серый', 'общительный']\n",
            "серый\n"
          ]
        }
      ]
    },
    {
      "cell_type": "markdown",
      "source": [
        "Можно найти длину списка через функцию `len`."
      ],
      "metadata": {
        "id": "WLDF5s8_2PZW"
      }
    },
    {
      "cell_type": "code",
      "source": [
        "len(l) # совет: не используйте l в качестве имени переменной: путается с единицей"
      ],
      "metadata": {
        "id": "APMfcGdY2Xm2",
        "colab": {
          "base_uri": "https://localhost:8080/"
        },
        "outputId": "b34fd64d-e295-4074-8fa5-0332529fe5ac"
      },
      "execution_count": null,
      "outputs": [
        {
          "output_type": "execute_result",
          "data": {
            "text/plain": [
              "5"
            ]
          },
          "metadata": {},
          "execution_count": 23
        }
      ]
    },
    {
      "cell_type": "code",
      "source": [
        "len(cat)"
      ],
      "metadata": {
        "colab": {
          "base_uri": "https://localhost:8080/"
        },
        "id": "X34b4VxTWk4S",
        "outputId": "97a5c6cd-a629-467a-9a09-bf6be52bd2cc"
      },
      "execution_count": null,
      "outputs": [
        {
          "output_type": "execute_result",
          "data": {
            "text/plain": [
              "3"
            ]
          },
          "metadata": {},
          "execution_count": 24
        }
      ]
    },
    {
      "cell_type": "code",
      "source": [
        "кот = 1\n",
        "print(кот)"
      ],
      "metadata": {
        "colab": {
          "base_uri": "https://localhost:8080/"
        },
        "id": "EkA8ikzEWy8v",
        "outputId": "9c50e4a6-670f-41ad-e9ec-4e3ff7548674"
      },
      "execution_count": null,
      "outputs": [
        {
          "output_type": "stream",
          "name": "stdout",
          "text": [
            "1\n"
          ]
        }
      ]
    },
    {
      "cell_type": "markdown",
      "source": [
        "Как обычно, есть приведение типов к списку с помощью функции `list()`. Что будет, если перевести в список `range(1, 11)`? А можно ли перевести в список строку? Число?"
      ],
      "metadata": {
        "id": "Hk2zRZn_47xo"
      }
    },
    {
      "cell_type": "code",
      "source": [
        "float(5)"
      ],
      "metadata": {
        "id": "EnDBx3a25Jxg",
        "colab": {
          "base_uri": "https://localhost:8080/"
        },
        "outputId": "06b16791-0d03-4c27-89b5-0c491ad579db"
      },
      "execution_count": null,
      "outputs": [
        {
          "output_type": "execute_result",
          "data": {
            "text/plain": [
              "5.0"
            ]
          },
          "metadata": {},
          "execution_count": 43
        }
      ]
    },
    {
      "cell_type": "markdown",
      "source": [
        "Список --- изменяемый тип данных! Это значит, что вы можете ... изменять список в ходе аботы программы. Число и строка --- неизменяемые типы данных. Есть 'неизменяемый список' --- кортеж (tuple). В отличие от списка, он обозначается круглыми скобками.  "
      ],
      "metadata": {
        "id": "n4t0uXyA2k5Y"
      }
    },
    {
      "cell_type": "code",
      "source": [
        "eggs = (1, 'abc')\n",
        "eggs[1]"
      ],
      "metadata": {
        "id": "TAE35ncH8cQN",
        "colab": {
          "base_uri": "https://localhost:8080/",
          "height": 35
        },
        "outputId": "6135513e-00b7-45e7-cb1c-bd2fb1631df0"
      },
      "execution_count": null,
      "outputs": [
        {
          "output_type": "execute_result",
          "data": {
            "text/plain": [
              "'abc'"
            ],
            "application/vnd.google.colaboratory.intrinsic+json": {
              "type": "string"
            }
          },
          "metadata": {},
          "execution_count": 45
        }
      ]
    },
    {
      "cell_type": "code",
      "source": [
        "len(eggs)"
      ],
      "metadata": {
        "id": "BxgSvcn28kMN",
        "colab": {
          "base_uri": "https://localhost:8080/"
        },
        "outputId": "78825471-4ff4-4bf4-fc99-cd4c9df84693"
      },
      "execution_count": null,
      "outputs": [
        {
          "output_type": "execute_result",
          "data": {
            "text/plain": [
              "2"
            ]
          },
          "metadata": {},
          "execution_count": 46
        }
      ]
    },
    {
      "cell_type": "code",
      "source": [
        "eggs[0] = 3"
      ],
      "metadata": {
        "id": "7c90v9Wg8nTC",
        "colab": {
          "base_uri": "https://localhost:8080/",
          "height": 178
        },
        "outputId": "2fb8b682-39b2-4571-8936-6c5b1a31f412"
      },
      "execution_count": null,
      "outputs": [
        {
          "output_type": "error",
          "ename": "TypeError",
          "evalue": "ignored",
          "traceback": [
            "\u001b[0;31m---------------------------------------------------------------------------\u001b[0m",
            "\u001b[0;31mTypeError\u001b[0m                                 Traceback (most recent call last)",
            "\u001b[0;32m<ipython-input-47-0a08c8ddea29>\u001b[0m in \u001b[0;36m<cell line: 1>\u001b[0;34m()\u001b[0m\n\u001b[0;32m----> 1\u001b[0;31m \u001b[0meggs\u001b[0m\u001b[0;34m[\u001b[0m\u001b[0;36m0\u001b[0m\u001b[0;34m]\u001b[0m \u001b[0;34m=\u001b[0m \u001b[0;36m3\u001b[0m\u001b[0;34m\u001b[0m\u001b[0;34m\u001b[0m\u001b[0m\n\u001b[0m",
            "\u001b[0;31mTypeError\u001b[0m: 'tuple' object does not support item assignment"
          ]
        }
      ]
    },
    {
      "cell_type": "code",
      "source": [],
      "metadata": {
        "id": "isLNrW3N_4HE"
      },
      "execution_count": null,
      "outputs": []
    },
    {
      "cell_type": "markdown",
      "source": [
        "## Как устроены данные в Python\n",
        "\n",
        "Python управляет памятью компьютера самостоятельно. Когда нужно выделить память под  `a = 1`, Python создает объект, соответствующий единице, и дает этой единице имч (буковку) `a`. Когда нужно выделить память под список `a = []`, Python создает пустой список и дает ему буквовку `a`. На языке предыдущего занятия, появляется имя `a`, и оно связывается со списком `[]`.  \n",
        "\n",
        "Одному списку могут соответствовать разные имена (буковки). Если нужна именно копия списка, используйте метод `copy()`.\n",
        "\n",
        "Для тех, кто знаком с C++: имена в Python работают примерно так же, как ссылки в C++."
      ],
      "metadata": {
        "id": "rJNW7Sym3Adq"
      }
    },
    {
      "cell_type": "markdown",
      "source": [
        "## Методы для работы со списками\n",
        "\n",
        "\n",
        "\n",
        "*   `append(a)` --- добавить элемент `a` в конец списка\n",
        "*   `insert(i, a)` --- вставить элемент `a` позицию `i`\n",
        "*  `remove(a)` --- удалить элемент `a` из списка\n",
        "* `sort()` --- сортировка элементов списка. Есть возможность сортировать в обратном порядке через `sort(reverse=True)`\n",
        "*  `copy()` --- создать точную копию списка\n",
        "* `pop()` --- удаляет из списка последний элемент и возвращает его  \n",
        "\n"
      ],
      "metadata": {
        "id": "HAiE8Azf0kAP"
      }
    },
    {
      "cell_type": "code",
      "source": [
        "l = [1, 2, 3]\n",
        "l.append(4)\n",
        "l"
      ],
      "metadata": {
        "id": "6njtNwVA2OK9",
        "colab": {
          "base_uri": "https://localhost:8080/"
        },
        "outputId": "e89bc52c-521f-4d33-de3e-fa34d28263da"
      },
      "execution_count": null,
      "outputs": [
        {
          "output_type": "execute_result",
          "data": {
            "text/plain": [
              "[1, 2, 3, 4]"
            ]
          },
          "metadata": {},
          "execution_count": 48
        }
      ]
    },
    {
      "cell_type": "code",
      "source": [
        "l.pop()"
      ],
      "metadata": {
        "colab": {
          "base_uri": "https://localhost:8080/"
        },
        "id": "tJT7zvDRaaap",
        "outputId": "55c7c190-d740-4a45-b032-36c84768006a"
      },
      "execution_count": null,
      "outputs": [
        {
          "output_type": "execute_result",
          "data": {
            "text/plain": [
              "4"
            ]
          },
          "metadata": {},
          "execution_count": 50
        }
      ]
    },
    {
      "cell_type": "code",
      "source": [
        "l"
      ],
      "metadata": {
        "colab": {
          "base_uri": "https://localhost:8080/"
        },
        "id": "nBxa1D1Jagt0",
        "outputId": "5aec1d64-ca13-4d00-f341-eef0eec8f19d"
      },
      "execution_count": null,
      "outputs": [
        {
          "output_type": "execute_result",
          "data": {
            "text/plain": [
              "[1, 2, 3]"
            ]
          },
          "metadata": {},
          "execution_count": 51
        }
      ]
    },
    {
      "cell_type": "markdown",
      "source": [
        "## Задачи"
      ],
      "metadata": {
        "id": "Xs5iHzRp4r5X"
      }
    },
    {
      "cell_type": "markdown",
      "source": [
        "**1**. Создайте список, содержащий несколько чисел. Выведите на экран первый элемент этого списка. Выведите на экран последний элемент этого списка."
      ],
      "metadata": {
        "id": "ALsk8QIQ4znP"
      }
    },
    {
      "cell_type": "code",
      "source": [
        "l = [1, 2, 3, 4, 5, 6, 7]\n",
        "print(l[0], l[-1])"
      ],
      "metadata": {
        "id": "DbamU-2V5LMQ",
        "colab": {
          "base_uri": "https://localhost:8080/"
        },
        "outputId": "1fe21b7b-a510-429f-eb04-46a11ae700d2"
      },
      "execution_count": null,
      "outputs": [
        {
          "output_type": "stream",
          "name": "stdout",
          "text": [
            "1 7\n"
          ]
        }
      ]
    },
    {
      "cell_type": "markdown",
      "source": [
        "**2**. Создайте список, содержащий числа от 1 до 10. Используя цикл for, выведите на экран все элементы этого списка."
      ],
      "metadata": {
        "id": "hg9Tazrg5Ldf"
      }
    },
    {
      "cell_type": "code",
      "source": [
        "m = list(range(1, 11))\n",
        "\n",
        "for j in m:\n",
        "  print(j)"
      ],
      "metadata": {
        "id": "TfAmA_Re5OHJ",
        "colab": {
          "base_uri": "https://localhost:8080/"
        },
        "outputId": "591bd47d-2153-404e-d6a2-0439da9d88c3"
      },
      "execution_count": null,
      "outputs": [
        {
          "output_type": "stream",
          "name": "stdout",
          "text": [
            "1\n",
            "2\n",
            "3\n",
            "4\n",
            "5\n",
            "6\n",
            "7\n",
            "8\n",
            "9\n",
            "10\n"
          ]
        }
      ]
    },
    {
      "cell_type": "markdown",
      "source": [
        "**3**. Создайте список, содержащий несколько чисел. С помощью *функции* `sum()` найдите сумму элементов этого списка и выведите на экран."
      ],
      "metadata": {
        "id": "KCHXwCOF5Ox_"
      }
    },
    {
      "cell_type": "code",
      "source": [
        "sum(m)"
      ],
      "metadata": {
        "id": "21wCcdb65zhy",
        "colab": {
          "base_uri": "https://localhost:8080/"
        },
        "outputId": "fd9e8598-bb4b-4ebe-a397-0b437308f4aa"
      },
      "execution_count": null,
      "outputs": [
        {
          "output_type": "execute_result",
          "data": {
            "text/plain": [
              "55"
            ]
          },
          "metadata": {},
          "execution_count": 57
        }
      ]
    },
    {
      "cell_type": "markdown",
      "source": [
        "**4**. Напишите функцию `find_max()`, которая принимает список чисел в качестве аргумента и возвращает наибольшее число в этом списке. Создайте список, содержащий несколько чисел, и выполните честный обход по списку с помощью цикла (функцию `max()` использовать нельзя, так слишком просто)."
      ],
      "metadata": {
        "id": "gIx6hoOi54X8"
      }
    },
    {
      "cell_type": "code",
      "source": [
        "def find_max(l):\n",
        "  ans = l[0]\n",
        "  for j in l:\n",
        "    if j > ans:\n",
        "      print('Кандидат неправильный. Новый кандидат ', j)\n",
        "      ans = j\n",
        "    else:\n",
        "      print('Кандидат правильный: ', ans)\n",
        "  return ans\n",
        "\n",
        "find_max([1, 2, 3, -1])"
      ],
      "metadata": {
        "id": "FoUD_Pg855fS",
        "colab": {
          "base_uri": "https://localhost:8080/"
        },
        "outputId": "c11b975b-f8f1-4bf9-d788-35d2f147673b"
      },
      "execution_count": null,
      "outputs": [
        {
          "output_type": "stream",
          "name": "stdout",
          "text": [
            "Кандидат правильный:  1\n",
            "Кандидат неправильный. Новый кандидат  2\n",
            "Кандидат неправильный. Новый кандидат  3\n",
            "Кандидат правильный:  3\n"
          ]
        },
        {
          "output_type": "execute_result",
          "data": {
            "text/plain": [
              "3"
            ]
          },
          "metadata": {},
          "execution_count": 62
        }
      ]
    },
    {
      "cell_type": "code",
      "source": [
        "[1, 2, 3]"
      ],
      "metadata": {
        "id": "ukJpH54Cc_fu"
      },
      "execution_count": null,
      "outputs": []
    },
    {
      "cell_type": "code",
      "source": [],
      "metadata": {
        "id": "gpGQEo5tcrmi"
      },
      "execution_count": null,
      "outputs": []
    }
  ]
}