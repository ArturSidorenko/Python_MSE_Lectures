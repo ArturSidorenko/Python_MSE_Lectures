{
  "nbformat": 4,
  "nbformat_minor": 0,
  "metadata": {
    "colab": {
      "provenance": [],
      "authorship_tag": "ABX9TyOkUkg9f2f4kTZIy/1CR7+z",
      "include_colab_link": true
    },
    "kernelspec": {
      "name": "python3",
      "display_name": "Python 3"
    },
    "language_info": {
      "name": "python"
    }
  },
  "cells": [
    {
      "cell_type": "markdown",
      "metadata": {
        "id": "view-in-github",
        "colab_type": "text"
      },
      "source": [
        "<a href=\"https://colab.research.google.com/github/ArturSidorenko/Python_MSE_Lectures/blob/main/Python_MSE_class_2_ipynb%22.ipynb\" target=\"_parent\"><img src=\"https://colab.research.google.com/assets/colab-badge.svg\" alt=\"Open In Colab\"/></a>"
      ]
    },
    {
      "cell_type": "markdown",
      "source": [
        "# Логические операторы и операторы сравнения\n",
        "\n",
        "**№1** Напишите программу, которая запрашивает у пользователя два числа и печатает True, если первое число больше второго, и False в противном случае."
      ],
      "metadata": {
        "id": "A_OuJN5SDwDn"
      }
    },
    {
      "cell_type": "code",
      "source": [
        "a = input(\"Введите число: \")\n",
        "b = input(\"Введите число: \")\n",
        "print(a == b)"
      ],
      "metadata": {
        "id": "7U4DJQkDD1Q9",
        "colab": {
          "base_uri": "https://localhost:8080/"
        },
        "outputId": "c52f17ca-1d15-4920-e02e-3ab7ecd07043"
      },
      "execution_count": null,
      "outputs": [
        {
          "output_type": "stream",
          "name": "stdout",
          "text": [
            "Введите число: 5\n",
            "Введите число: 5\n",
            "True\n"
          ]
        }
      ]
    },
    {
      "cell_type": "markdown",
      "source": [
        "**№2** Напишите программу, которая запрашивает у пользователя число и печатает True, если число находится между 10 и 20 (включительно), и False в противном случае."
      ],
      "metadata": {
        "id": "RvXQKHE_D1_f"
      }
    },
    {
      "cell_type": "code",
      "source": [
        "a = int(input(\"Введите число: \"))\n",
        "print((a >= 10) and (a <= 20))"
      ],
      "metadata": {
        "id": "Ez6fnsXUD5Hn",
        "colab": {
          "base_uri": "https://localhost:8080/"
        },
        "outputId": "c96985f4-d3c0-4477-bfca-d1fad60ce1ea"
      },
      "execution_count": null,
      "outputs": [
        {
          "output_type": "stream",
          "name": "stdout",
          "text": [
            "Введите число: 12\n",
            "True\n"
          ]
        }
      ]
    },
    {
      "cell_type": "markdown",
      "source": [
        "**№3** Напишите программу, которая запрашивает у пользователя число и печатает True, если число четное и больше 10, или если оно нечетное и меньше 5. В противном случае она должна печатать False."
      ],
      "metadata": {
        "id": "JeSEvg2-D5pw"
      }
    },
    {
      "cell_type": "code",
      "source": [
        "a = int(input(\"Введите число: \"))\n",
        "print(((a % 2 == 0) and (a > 10)) or ((a % 2 == 1) and (a < 5)))"
      ],
      "metadata": {
        "id": "tiTd50lUD8ZH",
        "colab": {
          "base_uri": "https://localhost:8080/"
        },
        "outputId": "75e3a54f-0acd-46c7-aab9-ba080ec25559"
      },
      "execution_count": null,
      "outputs": [
        {
          "output_type": "stream",
          "name": "stdout",
          "text": [
            "Введите число: 15\n",
            "False\n"
          ]
        }
      ]
    },
    {
      "cell_type": "markdown",
      "source": [
        "**№4** Объявите переменную truth и присвойте ей значение False. Прибавьте единицу и выведите ответ на экран"
      ],
      "metadata": {
        "id": "DlEfvseAEI8n"
      }
    },
    {
      "cell_type": "code",
      "source": [
        "truth = True\n",
        "print(truth + 1)"
      ],
      "metadata": {
        "id": "FvF6385uEJ-w",
        "colab": {
          "base_uri": "https://localhost:8080/"
        },
        "outputId": "bbe57fd0-388c-4b5e-e2f4-2471514a7caa"
      },
      "execution_count": null,
      "outputs": [
        {
          "output_type": "stream",
          "name": "stdout",
          "text": [
            "2\n"
          ]
        }
      ]
    },
    {
      "cell_type": "markdown",
      "source": [
        "# Условные операторы"
      ],
      "metadata": {
        "id": "hs8LYyz5IN2y"
      }
    },
    {
      "cell_type": "markdown",
      "source": [
        "**№5** Напишите программу, которая принимает на вход число и проверяет, больше ли оно десяти, равно или меньше"
      ],
      "metadata": {
        "id": "U9KauJprInOD"
      }
    },
    {
      "cell_type": "code",
      "source": [
        "a = int(input(\"Введите число: \"))\n",
        "if a > 10:\n",
        "  print(\"Число больше десяти\")\n",
        "else:\n",
        "  print(\"Число меньше или равно десяти\")"
      ],
      "metadata": {
        "id": "86VkT7pDIQyi",
        "colab": {
          "base_uri": "https://localhost:8080/"
        },
        "outputId": "4de6968b-db9a-44ac-9996-b5e9dfc7ae3a"
      },
      "execution_count": null,
      "outputs": [
        {
          "output_type": "stream",
          "name": "stdout",
          "text": [
            "Введите число: 10\n",
            "Число меньше или равно десяти\n"
          ]
        }
      ]
    },
    {
      "cell_type": "code",
      "source": [],
      "metadata": {
        "id": "EdP19Bf2JKs5"
      },
      "execution_count": null,
      "outputs": []
    },
    {
      "cell_type": "markdown",
      "source": [
        "**№6** Напишите программу, которая запрашивает у пользователя имя пользователя и пароль. Если имя пользователя \"admin\", а пароль \"password123\", программа должна напечатать \"Доступ разрешен\". В противном случае она должна напечатать \"Доступ запрещен\"."
      ],
      "metadata": {
        "id": "1S_VIHQpJOu6"
      }
    },
    {
      "cell_type": "code",
      "source": [
        "login = input(\"Введите имя пользователя: \")\n",
        "password = input(\"Введиет пароль: \")\n",
        "if((login == 'admin') and (password == 'password123')):\n",
        "  print(\"Доступ рпазрешен\")\n",
        "else:\n",
        "  print(\"Доступ запрещен\")"
      ],
      "metadata": {
        "id": "PfI8AT2PJdQK",
        "colab": {
          "base_uri": "https://localhost:8080/"
        },
        "outputId": "3ecd3503-8d44-491e-a044-3bf1221968eb"
      },
      "execution_count": null,
      "outputs": [
        {
          "output_type": "stream",
          "name": "stdout",
          "text": [
            "Введите имя пользователя: admin\n",
            "Введиет пароль: password123\n",
            "Доступ рпазрешен\n"
          ]
        }
      ]
    },
    {
      "cell_type": "markdown",
      "source": [
        "**№7** Напишите программу, которая запрашивает у пользователя его возраст и печатает \"Вы несовершеннолетний\", если возраст меньше 18 лет, и \"Вы совершеннолетний\" в противном случае."
      ],
      "metadata": {
        "id": "NoAHVlQRJefY"
      }
    },
    {
      "cell_type": "code",
      "source": [
        "age = int(input(\"Ваш возраст: \"))\n",
        "if age < 18:\n",
        "  print(\"Вы несовершеннолетний\")\n",
        "else:\n",
        "  print(\"Вы совершеннолетний\")"
      ],
      "metadata": {
        "id": "rdyS9mWzKWu6",
        "colab": {
          "base_uri": "https://localhost:8080/"
        },
        "outputId": "13c50667-18d6-4841-f5fd-373e60e080c5"
      },
      "execution_count": null,
      "outputs": [
        {
          "output_type": "stream",
          "name": "stdout",
          "text": [
            "Ваш возраст: 17\n",
            "Вы несовершеннолетний\n"
          ]
        }
      ]
    },
    {
      "cell_type": "markdown",
      "source": [
        "**№8** Напишите программу, которая запрашивает у пользователя два числа и печатает большее из них."
      ],
      "metadata": {
        "id": "3qUgEC4fKg6q"
      }
    },
    {
      "cell_type": "code",
      "source": [],
      "metadata": {
        "id": "NaMt59x2Em-q"
      },
      "execution_count": null,
      "outputs": []
    },
    {
      "cell_type": "markdown",
      "source": [
        "**№9** Напишите программу, которая запрашивает у пользователя строчную букву и печатает \"Гласная\", если это гласная буква, и \"Согласная\", если согласная. Символы ъ ь программа должна назвать \"Твердый знак\" и \"Мягкий знак\" соответственно."
      ],
      "metadata": {
        "id": "9EVEyvv2KsrN"
      }
    },
    {
      "cell_type": "code",
      "source": [],
      "metadata": {
        "id": "RlxtPuvqLhOR",
        "colab": {
          "base_uri": "https://localhost:8080/"
        },
        "outputId": "cee4dcf3-4aad-4cd3-9df8-885f093212c3"
      },
      "execution_count": null,
      "outputs": [
        {
          "output_type": "stream",
          "name": "stdout",
          "text": [
            "Введите строчную букву: 4567\n",
            "Согласная\n"
          ]
        }
      ]
    },
    {
      "cell_type": "markdown",
      "source": [
        "**№10** Напишите программу, которая запрашивает у пользователя его оценку по пятибалльной шкале и выводит на экран соответствующее сообщение (отлично, хорошо, удовлетворительно, неудовлетворительно, плохо). Если пользователь вводит значение, которое не находится в диапазоне от 1 до 5, программа должна вывести сообщение \"Некорректное значение\"."
      ],
      "metadata": {
        "id": "ArQEoHLVLhkn"
      }
    },
    {
      "cell_type": "code",
      "source": [],
      "metadata": {
        "id": "fSqltesyL8X0",
        "colab": {
          "base_uri": "https://localhost:8080/"
        },
        "outputId": "d0a79dcf-aff4-488b-bf25-aa11cd33f9ed"
      },
      "execution_count": null,
      "outputs": [
        {
          "output_type": "stream",
          "name": "stdout",
          "text": [
            "Введите оценку: 4\n",
            "Хор\n"
          ]
        }
      ]
    }
  ]
}