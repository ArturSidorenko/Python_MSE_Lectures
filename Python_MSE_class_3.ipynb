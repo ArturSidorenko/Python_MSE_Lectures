{
  "nbformat": 4,
  "nbformat_minor": 0,
  "metadata": {
    "colab": {
      "provenance": [],
      "authorship_tag": "ABX9TyM/yoA93bbz8xKSmHUu6wxh",
      "include_colab_link": true
    },
    "kernelspec": {
      "name": "python3",
      "display_name": "Python 3"
    },
    "language_info": {
      "name": "python"
    }
  },
  "cells": [
    {
      "cell_type": "markdown",
      "metadata": {
        "id": "view-in-github",
        "colab_type": "text"
      },
      "source": [
        "<a href=\"https://colab.research.google.com/github/ArturSidorenko/Python_MSE_Lectures/blob/main/Python_MSE_class_3.ipynb\" target=\"_parent\"><img src=\"https://colab.research.google.com/assets/colab-badge.svg\" alt=\"Open In Colab\"/></a>"
      ]
    },
    {
      "cell_type": "markdown",
      "source": [
        "# Цикл for\n",
        "\n",
        "<img src=https://www.meme-arsenal.com/memes/ab160b4de1b790e9c1d944296c6d7da5.jpg>\n"
      ],
      "metadata": {
        "id": "qdwszZRznRZv"
      }
    },
    {
      "cell_type": "markdown",
      "source": [
        "**№1** Напишите программу, которая выводит все числа от 1 до 10 включительно."
      ],
      "metadata": {
        "id": "R1ec9mnVnVWj"
      }
    },
    {
      "cell_type": "code",
      "execution_count": null,
      "metadata": {
        "id": "6RQhcAY3nMoy",
        "colab": {
          "base_uri": "https://localhost:8080/"
        },
        "outputId": "3916c9e6-a942-4a4e-d815-d06b844dd16d"
      },
      "outputs": [
        {
          "output_type": "stream",
          "name": "stdout",
          "text": [
            "1\n",
            "2\n",
            "3\n",
            "4\n",
            "5\n",
            "6\n",
            "7\n",
            "8\n",
            "9\n",
            "10\n"
          ]
        }
      ],
      "source": [
        "for i in range(1, 11):\n",
        "  print(i)"
      ]
    },
    {
      "cell_type": "markdown",
      "source": [
        "**№2** Напишите программу, которая выводит на экран таблицу умножения на 7 (от 1 до 10)."
      ],
      "metadata": {
        "id": "rUiT5SYGnZ9E"
      }
    },
    {
      "cell_type": "code",
      "source": [
        "for i in range(1, 11):\n",
        "  print(f'7 * {i} = {7 * i}')"
      ],
      "metadata": {
        "id": "XQIjnUjEneOD",
        "colab": {
          "base_uri": "https://localhost:8080/"
        },
        "outputId": "df2000d3-87cf-4f46-d58e-a5f09378cb1a"
      },
      "execution_count": null,
      "outputs": [
        {
          "output_type": "stream",
          "name": "stdout",
          "text": [
            "7 * 1 = 7\n",
            "7 * 2 = 14\n",
            "7 * 3 = 21\n",
            "7 * 4 = 28\n",
            "7 * 5 = 35\n",
            "7 * 6 = 42\n",
            "7 * 7 = 49\n",
            "7 * 8 = 56\n",
            "7 * 9 = 63\n",
            "7 * 10 = 70\n"
          ]
        }
      ]
    },
    {
      "cell_type": "markdown",
      "source": [
        "**№3** Напишите программу, которая находит сумму всех чисел от 1 до 100 и выводит ее на экран. Получите плюс к моральному удовлетворению за то, что следовали Гауссу"
      ],
      "metadata": {
        "id": "Vr3rxYqZnei6"
      }
    },
    {
      "cell_type": "code",
      "source": [
        "answer = 0\n",
        "for i in range(1, 101):\n",
        "  answer = answer + i\n",
        "print(answer)"
      ],
      "metadata": {
        "id": "psw2vX8hnlr6",
        "colab": {
          "base_uri": "https://localhost:8080/"
        },
        "outputId": "027ac2f3-2554-40e7-8021-4e46cd049c00"
      },
      "execution_count": null,
      "outputs": [
        {
          "output_type": "stream",
          "name": "stdout",
          "text": [
            "5050\n"
          ]
        }
      ]
    },
    {
      "cell_type": "markdown",
      "source": [
        "**№4** апишите программу, которая находит сумму всех четных чисел от 1 до 50 и выводит ее на экран."
      ],
      "metadata": {
        "id": "ywrASRIFnmIS"
      }
    },
    {
      "cell_type": "code",
      "source": [
        "answer = 0\n",
        "for i in range(2, 51, 2):\n",
        "  answer = answer + i\n",
        "print(answer)"
      ],
      "metadata": {
        "id": "5Ajk6-G0nqg_",
        "colab": {
          "base_uri": "https://localhost:8080/"
        },
        "outputId": "81d4060b-a1af-4d3e-b0c0-6d42a47d0d78"
      },
      "execution_count": null,
      "outputs": [
        {
          "output_type": "stream",
          "name": "stdout",
          "text": [
            "650\n"
          ]
        }
      ]
    },
    {
      "cell_type": "markdown",
      "source": [
        "**№5** Напишите программу, которая выводит все числа от 1 до 20, кроме чисел, кратных 3."
      ],
      "metadata": {
        "id": "jq357G5_nrGq"
      }
    },
    {
      "cell_type": "code",
      "source": [
        "for i in range(1, 21):\n",
        "  if i % 3 != 0:\n",
        "    print(i)"
      ],
      "metadata": {
        "id": "WDGrOszUnu_J",
        "colab": {
          "base_uri": "https://localhost:8080/"
        },
        "outputId": "f54b4689-4fe6-48f1-a2dc-0a9c8ff0c2a1"
      },
      "execution_count": null,
      "outputs": [
        {
          "output_type": "stream",
          "name": "stdout",
          "text": [
            "1\n",
            "2\n",
            "4\n",
            "5\n",
            "7\n",
            "8\n",
            "10\n",
            "11\n",
            "13\n",
            "14\n",
            "16\n",
            "17\n",
            "19\n",
            "20\n"
          ]
        }
      ]
    },
    {
      "cell_type": "markdown",
      "source": [
        "**№6** Напишите программу, которая запрашивает у пользователя число и выводит таблицу умножения для этого числа от 1 до 10."
      ],
      "metadata": {
        "id": "o-KZB402nxmU"
      }
    },
    {
      "cell_type": "code",
      "source": [
        "a = int(input('Введите число: '))\n",
        "for i in range(1, 11):\n",
        "  print(f'{a} * {i} = {a * i}')"
      ],
      "metadata": {
        "id": "iVxSI9C0n4WZ",
        "colab": {
          "base_uri": "https://localhost:8080/"
        },
        "outputId": "a101b131-82bc-4ba2-9804-a1eb6e5695bb"
      },
      "execution_count": null,
      "outputs": [
        {
          "output_type": "stream",
          "name": "stdout",
          "text": [
            "Введите число: 5\n",
            "5 * 1 = 5\n",
            "5 * 2 = 10\n",
            "5 * 3 = 15\n",
            "5 * 4 = 20\n",
            "5 * 5 = 25\n",
            "5 * 6 = 30\n",
            "5 * 7 = 35\n",
            "5 * 8 = 40\n",
            "5 * 9 = 45\n",
            "5 * 10 = 50\n"
          ]
        }
      ]
    },
    {
      "cell_type": "markdown",
      "source": [
        "**№7** Напишите программу, которая запрашивает у пользователя два числа, а затем выводит на экран их наибольший общий делитель. Оба числа натуральные"
      ],
      "metadata": {
        "id": "k9kfCU3Soohi"
      }
    },
    {
      "cell_type": "code",
      "source": [
        "x = int(input('Введите число: '))\n",
        "y = int(input('Введите число: '))\n",
        "if x % y == 0:\n",
        "  print(f'Ответ = {y}')\n",
        "else:\n",
        "  for k in range(y // 2, 0, -1):\n",
        "    if (x % k == 0) and (y % k == 0):\n",
        "      print(f'Ответ = {k}')\n",
        "      break"
      ],
      "metadata": {
        "id": "aOG_sAMXop99",
        "colab": {
          "base_uri": "https://localhost:8080/"
        },
        "outputId": "d59050eb-e78f-4620-e389-10701fbd9c40"
      },
      "execution_count": null,
      "outputs": [
        {
          "output_type": "stream",
          "name": "stdout",
          "text": [
            "Введите число: 52\n",
            "Введите число: 715\n",
            "Ответ = 13\n"
          ]
        }
      ]
    },
    {
      "cell_type": "markdown",
      "source": [
        "**№8** Напишите программу, которая запрашивает у пользователя два числа, а затем выводит на экран их наименьшее общее кратное. Оба числа натуральные"
      ],
      "metadata": {
        "id": "X3C8Wb10I_PE"
      }
    },
    {
      "cell_type": "code",
      "source": [
        "x = int(input('Введите число: '))\n",
        "y = int(input('Введите число: '))\n",
        "for k in range(1, x * y + 1):\n",
        "  if (k % x == 0) and (k % y == 0):\n",
        "    print(k)\n",
        "    break"
      ],
      "metadata": {
        "colab": {
          "base_uri": "https://localhost:8080/"
        },
        "id": "Qf0MiwpkISMJ",
        "outputId": "987feb54-0ba9-4f08-bfe7-8e9b9854ed49"
      },
      "execution_count": null,
      "outputs": [
        {
          "output_type": "stream",
          "name": "stdout",
          "text": [
            "Введите число: 54\n",
            "Введите число: 9\n",
            "54\n"
          ]
        }
      ]
    },
    {
      "cell_type": "code",
      "source": [],
      "metadata": {
        "id": "SVjaxQBjLWwK"
      },
      "execution_count": null,
      "outputs": []
    }
  ]
}